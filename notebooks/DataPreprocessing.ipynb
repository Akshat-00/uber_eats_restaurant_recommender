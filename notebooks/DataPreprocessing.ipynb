{
 "cells": [
  {
   "cell_type": "markdown",
   "id": "d01ac430",
   "metadata": {},
   "source": [
    "**CSC-555**\n",
    "\n",
    "**Data Preprocessing**"
   ]
  },
  {
   "cell_type": "code",
   "execution_count": 1,
   "id": "1a9851b9-3219-4d99-8b53-e482b36b03c2",
   "metadata": {
    "execution": {
     "iopub.execute_input": "2024-11-17T18:19:36.048088Z",
     "iopub.status.busy": "2024-11-17T18:19:36.047767Z",
     "iopub.status.idle": "2024-11-17T18:20:47.138872Z",
     "shell.execute_reply": "2024-11-17T18:20:47.138078Z",
     "shell.execute_reply.started": "2024-11-17T18:19:36.048055Z"
    }
   },
   "outputs": [
    {
     "data": {
      "application/vnd.jupyter.widget-view+json": {
       "model_id": "0ba2d397473c44d1b89ff45c9b982eb6",
       "version_major": 2,
       "version_minor": 0
      },
      "text/plain": [
       "VBox()"
      ]
     },
     "metadata": {},
     "output_type": "display_data"
    },
    {
     "name": "stdout",
     "output_type": "stream",
     "text": [
      "Starting Spark application\n"
     ]
    },
    {
     "data": {
      "text/html": [
       "<table>\n",
       "<tbody><tr><th>ID</th><th>YARN Application ID</th><th>Kind</th><th>State</th><th>Spark UI</th><th>Driver log</th><th>User</th><th>Current session?</th></tr><tr><td>0</td><td>application_1731866518661_0001</td><td>pyspark</td><td>idle</td><td><a target=\"_blank\" href=\"http://ip-172-31-79-223.ec2.internal:20888/proxy/application_1731866518661_0001/\" class=\"emr-proxy-link j-6EAW8DDPIKSW application_1731866518661_0001\" emr-resource=\"j-6EAW8DDPIKSW\n",
       "\" application-id=\"application_1731866518661_0001\">Link</a></td><td><a target=\"_blank\" href=\"http://ip-172-31-69-104.ec2.internal:8042/node/containerlogs/container_1731866518661_0001_01_000001/livy\">Link</a></td><td>None</td><td>✔</td></tr></tbody></table>"
      ],
      "text/plain": [
       "<IPython.core.display.HTML object>"
      ]
     },
     "metadata": {},
     "output_type": "display_data"
    },
    {
     "data": {
      "application/vnd.jupyter.widget-view+json": {
       "model_id": "",
       "version_major": 2,
       "version_minor": 0
      },
      "text/plain": [
       "FloatProgress(value=0.0, bar_style='info', description='Progress:', layout=Layout(height='25px', width='50%'),…"
      ]
     },
     "metadata": {},
     "output_type": "display_data"
    },
    {
     "name": "stdout",
     "output_type": "stream",
     "text": [
      "SparkSession available as 'spark'.\n"
     ]
    },
    {
     "data": {
      "application/vnd.jupyter.widget-view+json": {
       "model_id": "",
       "version_major": 2,
       "version_minor": 0
      },
      "text/plain": [
       "FloatProgress(value=0.0, bar_style='info', description='Progress:', layout=Layout(height='25px', width='50%'),…"
      ]
     },
     "metadata": {},
     "output_type": "display_data"
    }
   ],
   "source": [
    "import pyspark"
   ]
  },
  {
   "cell_type": "code",
   "execution_count": 2,
   "id": "6c9f866a-8e45-4623-adc2-ccaab210d469",
   "metadata": {
    "execution": {
     "iopub.execute_input": "2024-11-17T18:20:47.144203Z",
     "iopub.status.busy": "2024-11-17T18:20:47.141821Z",
     "iopub.status.idle": "2024-11-17T18:20:47.285971Z",
     "shell.execute_reply": "2024-11-17T18:20:47.285179Z",
     "shell.execute_reply.started": "2024-11-17T18:20:47.144162Z"
    }
   },
   "outputs": [
    {
     "data": {
      "application/vnd.jupyter.widget-view+json": {
       "model_id": "67e4ffbae93345368222e1756bd12d61",
       "version_major": 2,
       "version_minor": 0
      },
      "text/plain": [
       "VBox()"
      ]
     },
     "metadata": {},
     "output_type": "display_data"
    },
    {
     "data": {
      "application/vnd.jupyter.widget-view+json": {
       "model_id": "",
       "version_major": 2,
       "version_minor": 0
      },
      "text/plain": [
       "FloatProgress(value=0.0, bar_style='info', description='Progress:', layout=Layout(height='25px', width='50%'),…"
      ]
     },
     "metadata": {},
     "output_type": "display_data"
    }
   ],
   "source": [
    "from pyspark.sql import SparkSession\n",
    "from pyspark.sql.functions import regexp_replace, when, col, avg, countDistinct"
   ]
  },
  {
   "cell_type": "code",
   "execution_count": 3,
   "id": "b56d1ce2-9f97-4b14-8330-bad8e9bba031",
   "metadata": {
    "execution": {
     "iopub.execute_input": "2024-11-17T18:22:02.424150Z",
     "iopub.status.busy": "2024-11-17T18:22:02.423885Z",
     "iopub.status.idle": "2024-11-17T18:22:02.624797Z",
     "shell.execute_reply": "2024-11-17T18:22:02.624031Z",
     "shell.execute_reply.started": "2024-11-17T18:22:02.424119Z"
    }
   },
   "outputs": [
    {
     "data": {
      "application/vnd.jupyter.widget-view+json": {
       "model_id": "d14c3301d840455e987be6499575f73a",
       "version_major": 2,
       "version_minor": 0
      },
      "text/plain": [
       "VBox()"
      ]
     },
     "metadata": {},
     "output_type": "display_data"
    },
    {
     "data": {
      "application/vnd.jupyter.widget-view+json": {
       "model_id": "",
       "version_major": 2,
       "version_minor": 0
      },
      "text/plain": [
       "FloatProgress(value=0.0, bar_style='info', description='Progress:', layout=Layout(height='25px', width='50%'),…"
      ]
     },
     "metadata": {},
     "output_type": "display_data"
    }
   ],
   "source": [
    "# Initialize Spark Session\n",
    "spark = SparkSession.builder \\\n",
    "    .appName(\"Restaurants Test\") \\\n",
    "    .getOrCreate()"
   ]
  },
  {
   "cell_type": "code",
   "execution_count": 5,
   "id": "693fdfe5-ebf9-4284-a4d8-df3f7b0d8f99",
   "metadata": {
    "execution": {
     "iopub.execute_input": "2024-11-17T18:25:49.532998Z",
     "iopub.status.busy": "2024-11-17T18:25:49.532723Z",
     "iopub.status.idle": "2024-11-17T18:25:49.602792Z",
     "shell.execute_reply": "2024-11-17T18:25:49.601979Z",
     "shell.execute_reply.started": "2024-11-17T18:25:49.532970Z"
    },
    "tags": []
   },
   "outputs": [
    {
     "data": {
      "application/vnd.jupyter.widget-view+json": {
       "model_id": "7ef881765a2d46068957bdecb6b4b9b8",
       "version_major": 2,
       "version_minor": 0
      },
      "text/plain": [
       "VBox()"
      ]
     },
     "metadata": {},
     "output_type": "display_data"
    },
    {
     "data": {
      "application/vnd.jupyter.widget-view+json": {
       "model_id": "",
       "version_major": 2,
       "version_minor": 0
      },
      "text/plain": [
       "FloatProgress(value=0.0, bar_style='info', description='Progress:', layout=Layout(height='25px', width='50%'),…"
      ]
     },
     "metadata": {},
     "output_type": "display_data"
    }
   ],
   "source": [
    "# S3 Bucket and File Paths\n",
    "s3_bucket = \"s3://bucket-akshat-test\"\n",
    "restaurants_path = f\"{s3_bucket}/Restaurants/restaurants.csv\"\n",
    "menus_path = f\"{s3_bucket}/Restaurants/restaurant-menus.csv\"\n",
    "cleaned_restaurants_path = f\"{s3_bucket}/cleaned/restaurants/\"\n",
    "cleaned_menus_path = f\"{s3_bucket}/cleaned/menus/\""
   ]
  },
  {
   "cell_type": "code",
   "execution_count": 6,
   "id": "000a8b2b-4cb2-445f-8b7a-c4d3f6c7113d",
   "metadata": {
    "execution": {
     "iopub.execute_input": "2024-11-17T18:27:08.743555Z",
     "iopub.status.busy": "2024-11-17T18:27:08.743320Z",
     "iopub.status.idle": "2024-11-17T18:27:50.298350Z",
     "shell.execute_reply": "2024-11-17T18:27:50.297655Z",
     "shell.execute_reply.started": "2024-11-17T18:27:08.743529Z"
    }
   },
   "outputs": [
    {
     "data": {
      "application/vnd.jupyter.widget-view+json": {
       "model_id": "81c087ee1c6a4420802e53c94bdb4aa3",
       "version_major": 2,
       "version_minor": 0
      },
      "text/plain": [
       "VBox()"
      ]
     },
     "metadata": {},
     "output_type": "display_data"
    },
    {
     "data": {
      "application/vnd.jupyter.widget-view+json": {
       "model_id": "",
       "version_major": 2,
       "version_minor": 0
      },
      "text/plain": [
       "FloatProgress(value=0.0, bar_style='info', description='Progress:', layout=Layout(height='25px', width='50%'),…"
      ]
     },
     "metadata": {},
     "output_type": "display_data"
    }
   ],
   "source": [
    "# Load Dataset\n",
    "restaurants_df = spark.read.csv(restaurants_path, header=True, inferSchema=True)\n",
    "menus_df = spark.read.csv(menus_path, header=True, inferSchema=True)"
   ]
  },
  {
   "cell_type": "markdown",
   "id": "60460bb5",
   "metadata": {},
   "source": [
    "##### Data Cleaning \n",
    "- Restaurants\n",
    "\n",
    "Restaurants Data:\n",
    "- Normalizes price_range to numeric values.\n",
    "- Standardizes category using a slash-separated format."
   ]
  },
  {
   "cell_type": "code",
   "execution_count": null,
   "id": "d9b0987f-4fdd-4d4e-982e-52b74e0b238e",
   "metadata": {
    "execution": {
     "iopub.execute_input": "2024-11-17T18:29:02.467649Z",
     "iopub.status.busy": "2024-11-17T18:29:02.467418Z",
     "iopub.status.idle": "2024-11-17T18:29:02.764505Z",
     "shell.execute_reply": "2024-11-17T18:29:02.763498Z",
     "shell.execute_reply.started": "2024-11-17T18:29:02.467621Z"
    }
   },
   "outputs": [
    {
     "data": {
      "application/vnd.jupyter.widget-view+json": {
       "model_id": "a630629879664d558621ccb474b18f56",
       "version_major": 2,
       "version_minor": 0
      },
      "text/plain": [
       "VBox()"
      ]
     },
     "metadata": {},
     "output_type": "display_data"
    },
    {
     "data": {
      "application/vnd.jupyter.widget-view+json": {
       "model_id": "",
       "version_major": 2,
       "version_minor": 0
      },
      "text/plain": [
       "FloatProgress(value=0.0, bar_style='info', description='Progress:', layout=Layout(height='25px', width='50%'),…"
      ]
     },
     "metadata": {},
     "output_type": "display_data"
    }
   ],
   "source": [
    "restaurants_cleaned = restaurants_df \\\n",
    "    .withColumn(\"price_range\", when(col(\"price_range\") == \"$\", 1)\n",
    "                                .when(col(\"price_range\") == \"$$\", 2)\n",
    "                                .when(col(\"price_range\") == \"$$$\", 3)\n",
    "                                .when(col(\"price_range\") == \"$$$$\", 4)\n",
    "                                .otherwise(None)) \\\n",
    "    .withColumn(\"category\", regexp_replace(col(\"category\"), \", \", \"/\"))"
   ]
  },
  {
   "cell_type": "markdown",
   "id": "e8857967",
   "metadata": {},
   "source": [
    "- Menus\n",
    "\n",
    "\n",
    "Menus Data:\n",
    "- Strips \"USD\" from price and converts it to a float.\n",
    "- Replaces null description with \"No description available.\"\n",
    "- Normalizes category (e.g., removes redundant prefixes like \"Extra Large\").\n",
    "- Sets default price to 0.0 for missing values."
   ]
  },
  {
   "cell_type": "code",
   "execution_count": null,
   "id": "84ac2fd3-572d-4c0a-807e-3ebbdeb8eed9",
   "metadata": {
    "execution": {
     "iopub.execute_input": "2024-11-17T18:31:10.816855Z",
     "iopub.status.busy": "2024-11-17T18:31:10.816594Z",
     "iopub.status.idle": "2024-11-17T18:31:11.119240Z",
     "shell.execute_reply": "2024-11-17T18:31:11.118439Z",
     "shell.execute_reply.started": "2024-11-17T18:31:10.816826Z"
    }
   },
   "outputs": [
    {
     "data": {
      "application/vnd.jupyter.widget-view+json": {
       "model_id": "b790636d618a4d638ceebb9472f407c7",
       "version_major": 2,
       "version_minor": 0
      },
      "text/plain": [
       "VBox()"
      ]
     },
     "metadata": {},
     "output_type": "display_data"
    },
    {
     "data": {
      "application/vnd.jupyter.widget-view+json": {
       "model_id": "",
       "version_major": 2,
       "version_minor": 0
      },
      "text/plain": [
       "FloatProgress(value=0.0, bar_style='info', description='Progress:', layout=Layout(height='25px', width='50%'),…"
      ]
     },
     "metadata": {},
     "output_type": "display_data"
    }
   ],
   "source": [
    "menus_cleaned = menus_df \\\n",
    "    .withColumn(\"price\", regexp_replace(col(\"price\"), \" USD\", \"\").cast(\"float\")) \\\n",
    "    .withColumn(\"description\", when(col(\"description\").isNull(), \"No description available\")\n",
    "                                .otherwise(col(\"description\"))) \\\n",
    "    .withColumn(\"category\", regexp_replace(col(\"category\"), \"(Extra Large|Jumbo|Spicy) \", \"\")) \\\n",
    "    .withColumn(\"price\", when(col(\"price\").isNull(), 0.0).otherwise(col(\"price\")))"
   ]
  },
  {
   "cell_type": "code",
   "execution_count": 9,
   "id": "1c7971c1-31c1-4db4-9386-e3cc4fd44220",
   "metadata": {
    "execution": {
     "iopub.execute_input": "2024-11-17T18:32:05.244305Z",
     "iopub.status.busy": "2024-11-17T18:32:05.244062Z",
     "iopub.status.idle": "2024-11-17T18:33:02.844196Z",
     "shell.execute_reply": "2024-11-17T18:33:02.842515Z",
     "shell.execute_reply.started": "2024-11-17T18:32:05.244278Z"
    }
   },
   "outputs": [
    {
     "data": {
      "application/vnd.jupyter.widget-view+json": {
       "model_id": "c77ea561f49e41078fa51603475734bc",
       "version_major": 2,
       "version_minor": 0
      },
      "text/plain": [
       "VBox()"
      ]
     },
     "metadata": {},
     "output_type": "display_data"
    },
    {
     "data": {
      "application/vnd.jupyter.widget-view+json": {
       "model_id": "",
       "version_major": 2,
       "version_minor": 0
      },
      "text/plain": [
       "FloatProgress(value=0.0, bar_style='info', description='Progress:', layout=Layout(height='25px', width='50%'),…"
      ]
     },
     "metadata": {},
     "output_type": "display_data"
    }
   ],
   "source": [
    "# Saving Cleaned data to S3\n",
    "restaurants_cleaned.write.mode(\"overwrite\").parquet(cleaned_restaurants_path)\n",
    "menus_cleaned.write.mode(\"overwrite\").parquet(cleaned_menus_path)"
   ]
  },
  {
   "cell_type": "code",
   "execution_count": 17,
   "id": "738c03d0-62c2-414b-9cd6-2c7a98a0eac3",
   "metadata": {
    "execution": {
     "iopub.execute_input": "2024-11-17T19:33:40.312175Z",
     "iopub.status.busy": "2024-11-17T19:33:40.311940Z",
     "iopub.status.idle": "2024-11-17T19:33:40.397521Z",
     "shell.execute_reply": "2024-11-17T19:33:40.396389Z",
     "shell.execute_reply.started": "2024-11-17T19:33:40.312148Z"
    },
    "tags": []
   },
   "outputs": [
    {
     "data": {
      "application/vnd.jupyter.widget-view+json": {
       "model_id": "6ea8676973d842a283031cc67c7eed04",
       "version_major": 2,
       "version_minor": 0
      },
      "text/plain": [
       "VBox()"
      ]
     },
     "metadata": {},
     "output_type": "display_data"
    },
    {
     "data": {
      "application/vnd.jupyter.widget-view+json": {
       "model_id": "",
       "version_major": 2,
       "version_minor": 0
      },
      "text/plain": [
       "FloatProgress(value=0.0, bar_style='info', description='Progress:', layout=Layout(height='25px', width='50%'),…"
      ]
     },
     "metadata": {},
     "output_type": "display_data"
    }
   ],
   "source": [
    "from pyspark.sql.types import IntegerType, DoubleType"
   ]
  },
  {
   "cell_type": "code",
   "execution_count": 16,
   "id": "e0639bea-d3b2-4c52-963d-b16242f82011",
   "metadata": {
    "execution": {
     "iopub.execute_input": "2024-11-17T19:30:13.556600Z",
     "iopub.status.busy": "2024-11-17T19:30:13.556341Z",
     "iopub.status.idle": "2024-11-17T19:30:13.641938Z",
     "shell.execute_reply": "2024-11-17T19:30:13.641078Z",
     "shell.execute_reply.started": "2024-11-17T19:30:13.556551Z"
    }
   },
   "outputs": [
    {
     "data": {
      "application/vnd.jupyter.widget-view+json": {
       "model_id": "16446ae15e35413992a31bf1b737e743",
       "version_major": 2,
       "version_minor": 0
      },
      "text/plain": [
       "VBox()"
      ]
     },
     "metadata": {},
     "output_type": "display_data"
    },
    {
     "data": {
      "application/vnd.jupyter.widget-view+json": {
       "model_id": "",
       "version_major": 2,
       "version_minor": 0
      },
      "text/plain": [
       "FloatProgress(value=0.0, bar_style='info', description='Progress:', layout=Layout(height='25px', width='50%'),…"
      ]
     },
     "metadata": {},
     "output_type": "display_data"
    },
    {
     "name": "stdout",
     "output_type": "stream",
     "text": [
      "root\n",
      " |-- id: integer (nullable = true)\n",
      " |-- position: string (nullable = true)\n",
      " |-- name: string (nullable = true)\n",
      " |-- score: string (nullable = true)\n",
      " |-- ratings: string (nullable = true)\n",
      " |-- category: string (nullable = true)\n",
      " |-- price_range: integer (nullable = true)\n",
      " |-- full_address: string (nullable = true)\n",
      " |-- zip_code: string (nullable = true)\n",
      " |-- lat: string (nullable = true)\n",
      " |-- lng: string (nullable = true)"
     ]
    }
   ],
   "source": [
    "restaurants_cleaned.printSchema()"
   ]
  },
  {
   "cell_type": "code",
   "execution_count": 18,
   "id": "e7808476-a179-4dab-a539-88af5bbc8b25",
   "metadata": {
    "execution": {
     "iopub.execute_input": "2024-11-17T19:33:57.270404Z",
     "iopub.status.busy": "2024-11-17T19:33:57.270170Z",
     "iopub.status.idle": "2024-11-17T19:34:14.622209Z",
     "shell.execute_reply": "2024-11-17T19:34:14.620331Z",
     "shell.execute_reply.started": "2024-11-17T19:33:57.270376Z"
    },
    "tags": []
   },
   "outputs": [
    {
     "data": {
      "application/vnd.jupyter.widget-view+json": {
       "model_id": "866c3e5cddbc444fa6790388430cb627",
       "version_major": 2,
       "version_minor": 0
      },
      "text/plain": [
       "VBox()"
      ]
     },
     "metadata": {},
     "output_type": "display_data"
    },
    {
     "data": {
      "application/vnd.jupyter.widget-view+json": {
       "model_id": "",
       "version_major": 2,
       "version_minor": 0
      },
      "text/plain": [
       "FloatProgress(value=0.0, bar_style='info', description='Progress:', layout=Layout(height='25px', width='50%'),…"
      ]
     },
     "metadata": {},
     "output_type": "display_data"
    }
   ],
   "source": [
    "restaurants_cleaned = restaurants_cleaned.withColumn(\"id\", restaurants_cleaned[\"id\"].cast(IntegerType())) \\\n",
    "                                         .withColumn(\"position\", restaurants_cleaned[\"position\"].cast(IntegerType())) \\\n",
    "                                         .withColumn(\"ratings\", restaurants_cleaned[\"ratings\"].cast(IntegerType())) \\\n",
    "                                         .withColumn(\"lat\", restaurants_cleaned[\"lat\"].cast(DoubleType())) \\\n",
    "                                         .withColumn(\"lng\", restaurants_cleaned[\"lng\"].cast(DoubleType()))\n",
    "\n",
    "restaurants_cleaned.write.mode(\"overwrite\").parquet(cleaned_restaurants_path)"
   ]
  },
  {
   "cell_type": "code",
   "execution_count": 19,
   "id": "337a02ee-e2d0-4ed1-b305-b864bfa5821f",
   "metadata": {
    "execution": {
     "iopub.execute_input": "2024-11-17T19:34:25.063325Z",
     "iopub.status.busy": "2024-11-17T19:34:25.063090Z",
     "iopub.status.idle": "2024-11-17T19:34:25.132649Z",
     "shell.execute_reply": "2024-11-17T19:34:25.131803Z",
     "shell.execute_reply.started": "2024-11-17T19:34:25.063298Z"
    }
   },
   "outputs": [
    {
     "data": {
      "application/vnd.jupyter.widget-view+json": {
       "model_id": "bf678514b5854ef0a3bb8cae4d93f438",
       "version_major": 2,
       "version_minor": 0
      },
      "text/plain": [
       "VBox()"
      ]
     },
     "metadata": {},
     "output_type": "display_data"
    },
    {
     "data": {
      "application/vnd.jupyter.widget-view+json": {
       "model_id": "",
       "version_major": 2,
       "version_minor": 0
      },
      "text/plain": [
       "FloatProgress(value=0.0, bar_style='info', description='Progress:', layout=Layout(height='25px', width='50%'),…"
      ]
     },
     "metadata": {},
     "output_type": "display_data"
    },
    {
     "name": "stdout",
     "output_type": "stream",
     "text": [
      "root\n",
      " |-- restaurant_id: string (nullable = true)\n",
      " |-- category: string (nullable = true)\n",
      " |-- name: string (nullable = true)\n",
      " |-- description: string (nullable = true)\n",
      " |-- price: double (nullable = true)"
     ]
    }
   ],
   "source": [
    "menus_cleaned.printSchema()"
   ]
  },
  {
   "cell_type": "code",
   "execution_count": 20,
   "id": "6a77034b-5227-446f-96ad-e07a1bdaeb64",
   "metadata": {
    "execution": {
     "iopub.execute_input": "2024-11-17T19:35:42.905127Z",
     "iopub.status.busy": "2024-11-17T19:35:42.904859Z",
     "iopub.status.idle": "2024-11-17T19:36:30.368963Z",
     "shell.execute_reply": "2024-11-17T19:36:30.368126Z",
     "shell.execute_reply.started": "2024-11-17T19:35:42.905099Z"
    }
   },
   "outputs": [
    {
     "data": {
      "application/vnd.jupyter.widget-view+json": {
       "model_id": "7132a13801d444139a28efe1d5eb89d2",
       "version_major": 2,
       "version_minor": 0
      },
      "text/plain": [
       "VBox()"
      ]
     },
     "metadata": {},
     "output_type": "display_data"
    },
    {
     "data": {
      "application/vnd.jupyter.widget-view+json": {
       "model_id": "",
       "version_major": 2,
       "version_minor": 0
      },
      "text/plain": [
       "FloatProgress(value=0.0, bar_style='info', description='Progress:', layout=Layout(height='25px', width='50%'),…"
      ]
     },
     "metadata": {},
     "output_type": "display_data"
    }
   ],
   "source": [
    "menus_cleaned = menus_cleaned.withColumn(\"restaurant_id\", menus_cleaned[\"restaurant_id\"].cast(IntegerType()))\n",
    "menus_cleaned.write.mode(\"overwrite\").parquet(cleaned_menus_path)"
   ]
  },
  {
   "cell_type": "code",
   "execution_count": 22,
   "id": "b998eb26-2a7f-46d0-90e2-d2c7b5d34b41",
   "metadata": {
    "execution": {
     "iopub.execute_input": "2024-11-17T19:36:53.192495Z",
     "iopub.status.busy": "2024-11-17T19:36:53.192248Z",
     "iopub.status.idle": "2024-11-17T19:36:53.960744Z",
     "shell.execute_reply": "2024-11-17T19:36:53.958135Z",
     "shell.execute_reply.started": "2024-11-17T19:36:53.192465Z"
    },
    "tags": []
   },
   "outputs": [
    {
     "data": {
      "application/vnd.jupyter.widget-view+json": {
       "model_id": "f8e5fc40fe51431a9feb5a669d97790d",
       "version_major": 2,
       "version_minor": 0
      },
      "text/plain": [
       "VBox()"
      ]
     },
     "metadata": {},
     "output_type": "display_data"
    },
    {
     "data": {
      "application/vnd.jupyter.widget-view+json": {
       "model_id": "",
       "version_major": 2,
       "version_minor": 0
      },
      "text/plain": [
       "FloatProgress(value=0.0, bar_style='info', description='Progress:', layout=Layout(height='25px', width='50%'),…"
      ]
     },
     "metadata": {},
     "output_type": "display_data"
    },
    {
     "name": "stdout",
     "output_type": "stream",
     "text": [
      "+---+--------+--------------------+-----+-------+--------------------+-----------+--------------------+--------+----------+-----------+\n",
      "| id|position|                name|score|ratings|            category|price_range|        full_address|zip_code|       lat|        lng|\n",
      "+---+--------+--------------------+-----+-------+--------------------+-----------+--------------------+--------+----------+-----------+\n",
      "|  1|      19|PJ Fresh (224 Dan...| NULL|   NULL|Burgers/American/...|          1|224 Daniel Payne ...|   35207|33.5623653|-86.8307025|\n",
      "|  2|       9|J' ti`'z Smoothie...| NULL|   NULL|Coffee and Tea/Br...|       NULL|1521 Pinson Valle...|   35217|  33.58364|  -86.77333|\n",
      "|  3|       6|Philly Fresh Chee...| NULL|   NULL|American/Cheesest...|          1|541-B Graymont Av...|   35204|   33.5098|  -86.85464|\n",
      "|  4|      17|Papa Murphy's (15...| NULL|   NULL|               Pizza|          1|1580 Montgomery H...|   35226|33.4044388|-86.8066142|\n",
      "|  5|     162|Nelson Brothers C...|  4.7|     22|Breakfast and Bru...|       NULL|314 17th St N, Bi...|   35203|  33.51473|   -86.8117|\n",
      "+---+--------+--------------------+-----+-------+--------------------+-----------+--------------------+--------+----------+-----------+\n",
      "only showing top 5 rows\n",
      "\n",
      "+-------------+--------+--------------------+-----------+------------------+\n",
      "|restaurant_id|category|                name|description|             price|\n",
      "+-------------+--------+--------------------+-----------+------------------+\n",
      "|            1|   Pizza|Extra Large Meat ...| Whole pie.|15.989999771118164|\n",
      "|            1|   Pizza| Extra Large Supreme| Whole pie.|15.989999771118164|\n",
      "|            1|   Pizza|Extra Large Peppe...| Whole pie.|14.989999771118164|\n",
      "|            1|   Pizza|Extra Large BBQ C...|  Whole Pie|15.989999771118164|\n",
      "|            1|   Pizza|Extra Large 5 Cheese| Whole pie.|14.989999771118164|\n",
      "+-------------+--------+--------------------+-----------+------------------+\n",
      "only showing top 5 rows"
     ]
    }
   ],
   "source": [
    "# Verify Cleaning\n",
    "restaurants_cleaned.show(5)\n",
    "menus_cleaned.show(5)"
   ]
  },
  {
   "cell_type": "code",
   "execution_count": 23,
   "id": "9cabe055-2b80-49a6-9ebc-34e249bd6d9d",
   "metadata": {
    "execution": {
     "iopub.execute_input": "2024-11-17T20:16:20.187352Z",
     "iopub.status.busy": "2024-11-17T20:16:20.187117Z",
     "iopub.status.idle": "2024-11-17T20:16:20.955915Z",
     "shell.execute_reply": "2024-11-17T20:16:20.954760Z",
     "shell.execute_reply.started": "2024-11-17T20:16:20.187325Z"
    }
   },
   "outputs": [
    {
     "data": {
      "application/vnd.jupyter.widget-view+json": {
       "model_id": "fc33555a29a7488e9ee8c2c217882a98",
       "version_major": 2,
       "version_minor": 0
      },
      "text/plain": [
       "VBox()"
      ]
     },
     "metadata": {},
     "output_type": "display_data"
    },
    {
     "data": {
      "application/vnd.jupyter.widget-view+json": {
       "model_id": "",
       "version_major": 2,
       "version_minor": 0
      },
      "text/plain": [
       "FloatProgress(value=0.0, bar_style='info', description='Progress:', layout=Layout(height='25px', width='50%'),…"
      ]
     },
     "metadata": {},
     "output_type": "display_data"
    }
   ],
   "source": [
    "# Stop Spark Session\n",
    "spark.stop()"
   ]
  }
 ],
 "metadata": {
  "kernelspec": {
   "display_name": "PySpark",
   "language": "python",
   "name": "pysparkkernel"
  },
  "language_info": {
   "codemirror_mode": {
    "name": "python",
    "version": 3
   },
   "file_extension": ".py",
   "mimetype": "text/x-python",
   "name": "pyspark",
   "pygments_lexer": "python3"
  }
 },
 "nbformat": 4,
 "nbformat_minor": 5
}
