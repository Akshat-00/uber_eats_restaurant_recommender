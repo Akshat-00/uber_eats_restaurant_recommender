{
 "cells": [
  {
   "cell_type": "markdown",
   "id": "b770d2c6",
   "metadata": {},
   "source": [
    "**CSC-555**\n",
    "\n",
    "**Restaurant-Recommendation**"
   ]
  },
  {
   "cell_type": "code",
   "execution_count": 1,
   "id": "0ce40ab7-fa1a-4066-8705-5e5c159837b6",
   "metadata": {
    "execution": {
     "iopub.execute_input": "2024-11-18T22:26:34.478075Z",
     "iopub.status.busy": "2024-11-18T22:26:34.477731Z",
     "iopub.status.idle": "2024-11-18T22:27:49.729759Z",
     "shell.execute_reply": "2024-11-18T22:27:49.728715Z",
     "shell.execute_reply.started": "2024-11-18T22:26:34.478025Z"
    },
    "tags": []
   },
   "outputs": [
    {
     "data": {
      "application/vnd.jupyter.widget-view+json": {
       "model_id": "ecd5a190881d4d55af1e161b0dd16020",
       "version_major": 2,
       "version_minor": 0
      },
      "text/plain": [
       "VBox()"
      ]
     },
     "metadata": {},
     "output_type": "display_data"
    },
    {
     "name": "stdout",
     "output_type": "stream",
     "text": [
      "Starting Spark application\n"
     ]
    },
    {
     "data": {
      "text/html": [
       "<table>\n",
       "<tbody><tr><th>ID</th><th>YARN Application ID</th><th>Kind</th><th>State</th><th>Spark UI</th><th>Driver log</th><th>User</th><th>Current session?</th></tr><tr><td>0</td><td>application_1731966853693_0001</td><td>pyspark</td><td>idle</td><td><a target=\"_blank\" href=\"http://ip-172-31-73-55.ec2.internal:20888/proxy/application_1731966853693_0001/\" class=\"emr-proxy-link j-GB47E2VB11NK application_1731966853693_0001\" emr-resource=\"j-GB47E2VB11NK\n",
       "\" application-id=\"application_1731966853693_0001\">Link</a></td><td><a target=\"_blank\" href=\"http://ip-172-31-73-153.ec2.internal:8042/node/containerlogs/container_1731966853693_0001_01_000001/livy\">Link</a></td><td>None</td><td>✔</td></tr></tbody></table>"
      ],
      "text/plain": [
       "<IPython.core.display.HTML object>"
      ]
     },
     "metadata": {},
     "output_type": "display_data"
    },
    {
     "data": {
      "application/vnd.jupyter.widget-view+json": {
       "model_id": "",
       "version_major": 2,
       "version_minor": 0
      },
      "text/plain": [
       "FloatProgress(value=0.0, bar_style='info', description='Progress:', layout=Layout(height='25px', width='50%'),…"
      ]
     },
     "metadata": {},
     "output_type": "display_data"
    },
    {
     "name": "stdout",
     "output_type": "stream",
     "text": [
      "SparkSession available as 'spark'.\n"
     ]
    },
    {
     "data": {
      "application/vnd.jupyter.widget-view+json": {
       "model_id": "",
       "version_major": 2,
       "version_minor": 0
      },
      "text/plain": [
       "FloatProgress(value=0.0, bar_style='info', description='Progress:', layout=Layout(height='25px', width='50%'),…"
      ]
     },
     "metadata": {},
     "output_type": "display_data"
    }
   ],
   "source": [
    "# Import necessary libraries\n",
    "from pyspark.sql import SparkSession"
   ]
  },
  {
   "cell_type": "code",
   "execution_count": 2,
   "id": "5beca25c-ae08-44c8-b70b-83ecdaf21f84",
   "metadata": {
    "execution": {
     "iopub.execute_input": "2024-11-18T22:27:49.731976Z",
     "iopub.status.busy": "2024-11-18T22:27:49.731724Z",
     "iopub.status.idle": "2024-11-18T22:28:19.285137Z",
     "shell.execute_reply": "2024-11-18T22:28:19.284251Z",
     "shell.execute_reply.started": "2024-11-18T22:27:49.731940Z"
    },
    "tags": []
   },
   "outputs": [
    {
     "data": {
      "application/vnd.jupyter.widget-view+json": {
       "model_id": "ba33fc338b024725a83797e3a15e41f0",
       "version_major": 2,
       "version_minor": 0
      },
      "text/plain": [
       "VBox()"
      ]
     },
     "metadata": {},
     "output_type": "display_data"
    },
    {
     "data": {
      "application/vnd.jupyter.widget-view+json": {
       "model_id": "",
       "version_major": 2,
       "version_minor": 0
      },
      "text/plain": [
       "FloatProgress(value=0.0, bar_style='info', description='Progress:', layout=Layout(height='25px', width='50%'),…"
      ]
     },
     "metadata": {},
     "output_type": "display_data"
    },
    {
     "name": "stdout",
     "output_type": "stream",
     "text": [
      "Collecting numpy\n",
      "  Downloading numpy-2.0.2-cp39-cp39-manylinux_2_17_x86_64.manylinux2014_x86_64.whl (19.5 MB)\n",
      "Installing collected packages: numpy\n",
      "Successfully installed numpy-2.0.2\n",
      "\n",
      "Collecting pandas\n",
      "  Downloading pandas-2.2.3-cp39-cp39-manylinux_2_17_x86_64.manylinux2014_x86_64.whl (13.1 MB)\n",
      "Requirement already satisfied: pytz>=2020.1 in /usr/local/lib/python3.9/site-packages (from pandas) (2024.1)\n",
      "Collecting python-dateutil>=2.8.2\n",
      "  Downloading python_dateutil-2.9.0.post0-py2.py3-none-any.whl (229 kB)\n",
      "Collecting tzdata>=2022.7\n",
      "  Downloading tzdata-2024.2-py2.py3-none-any.whl (346 kB)\n",
      "Requirement already satisfied: numpy>=1.22.4 in ./tmp/spark-b51ea24e-9a68-4fdb-864a-d6005d1e992e/lib64/python3.9/site-packages (from pandas) (2.0.2)\n",
      "Requirement already satisfied: six>=1.5 in /usr/local/lib/python3.9/site-packages (from python-dateutil>=2.8.2->pandas) (1.13.0)\n",
      "Installing collected packages: tzdata, python-dateutil, pandas\n",
      "  Attempting uninstall: python-dateutil\n",
      "    Found existing installation: python-dateutil 2.8.1\n",
      "    Not uninstalling python-dateutil at /usr/lib/python3.9/site-packages, outside environment /mnt/yarn/usercache/livy/appcache/application_1731966853693_0001/container_1731966853693_0001_01_000001/tmp/spark-b51ea24e-9a68-4fdb-864a-d6005d1e992e\n",
      "    Can't uninstall 'python-dateutil'. No files were found to uninstall.\n",
      "Successfully installed pandas-2.2.3 python-dateutil-2.9.0.post0 tzdata-2024.2\n",
      "\n",
      "WARNING: The directory '/home/.cache/pip' or its parent directory is not owned or is not writable by the current user. The cache has been disabled. Check the permissions and owner of that directory. If executing pip with sudo, you should use sudo's -H flag.\n",
      "\n",
      "WARNING: The directory '/home/.cache/pip' or its parent directory is not owned or is not writable by the current user. The cache has been disabled. Check the permissions and owner of that directory. If executing pip with sudo, you should use sudo's -H flag.\n",
      "ERROR: pip's dependency resolver does not currently take into account all the packages that are installed. This behaviour is the source of the following dependency conflicts.\n",
      "awscli 2.15.30 requires python-dateutil<=2.8.2,>=2.1, but you have python-dateutil 2.9.0.post0 which is incompatible."
     ]
    }
   ],
   "source": [
    "sc.install_pypi_package(\"numpy\")\n",
    "sc.install_pypi_package(\"pandas\")"
   ]
  },
  {
   "cell_type": "code",
   "execution_count": 3,
   "id": "cfc8cbb3-2ec5-4aa3-8d5b-b4e0f50f5da0",
   "metadata": {
    "execution": {
     "iopub.execute_input": "2024-11-18T22:28:19.287210Z",
     "iopub.status.busy": "2024-11-18T22:28:19.287014Z",
     "iopub.status.idle": "2024-11-18T22:28:20.099819Z",
     "shell.execute_reply": "2024-11-18T22:28:20.098927Z",
     "shell.execute_reply.started": "2024-11-18T22:28:19.287174Z"
    },
    "tags": []
   },
   "outputs": [
    {
     "data": {
      "application/vnd.jupyter.widget-view+json": {
       "model_id": "12e370978e664848afb2fbab055c9eec",
       "version_major": 2,
       "version_minor": 0
      },
      "text/plain": [
       "VBox()"
      ]
     },
     "metadata": {},
     "output_type": "display_data"
    },
    {
     "data": {
      "application/vnd.jupyter.widget-view+json": {
       "model_id": "",
       "version_major": 2,
       "version_minor": 0
      },
      "text/plain": [
       "FloatProgress(value=0.0, bar_style='info', description='Progress:', layout=Layout(height='25px', width='50%'),…"
      ]
     },
     "metadata": {},
     "output_type": "display_data"
    }
   ],
   "source": [
    "from pyspark.ml.feature import VectorAssembler, StandardScaler\n",
    "from pyspark.sql.functions import col"
   ]
  },
  {
   "cell_type": "code",
   "execution_count": 4,
   "id": "6a695ed4-4e9f-4486-829f-8733d6245e0e",
   "metadata": {
    "execution": {
     "iopub.execute_input": "2024-11-18T22:28:20.101046Z",
     "iopub.status.busy": "2024-11-18T22:28:20.100870Z",
     "iopub.status.idle": "2024-11-18T22:28:20.203321Z",
     "shell.execute_reply": "2024-11-18T22:28:20.201125Z",
     "shell.execute_reply.started": "2024-11-18T22:28:20.101021Z"
    }
   },
   "outputs": [
    {
     "data": {
      "application/vnd.jupyter.widget-view+json": {
       "model_id": "5fa284153da44b82806a956e3748cc2c",
       "version_major": 2,
       "version_minor": 0
      },
      "text/plain": [
       "VBox()"
      ]
     },
     "metadata": {},
     "output_type": "display_data"
    },
    {
     "data": {
      "application/vnd.jupyter.widget-view+json": {
       "model_id": "",
       "version_major": 2,
       "version_minor": 0
      },
      "text/plain": [
       "FloatProgress(value=0.0, bar_style='info', description='Progress:', layout=Layout(height='25px', width='50%'),…"
      ]
     },
     "metadata": {},
     "output_type": "display_data"
    }
   ],
   "source": [
    "# Initialize SparkSession\n",
    "spark = SparkSession.builder \\\n",
    "    .appName(\"Similar Restaurants\") \\\n",
    "    .getOrCreate()"
   ]
  },
  {
   "cell_type": "code",
   "execution_count": 5,
   "id": "520f7b5a-9963-4ca9-8cb2-165bb5153cff",
   "metadata": {
    "execution": {
     "iopub.execute_input": "2024-11-18T22:28:57.153864Z",
     "iopub.status.busy": "2024-11-18T22:28:57.153625Z",
     "iopub.status.idle": "2024-11-18T22:28:57.239406Z",
     "shell.execute_reply": "2024-11-18T22:28:57.238240Z",
     "shell.execute_reply.started": "2024-11-18T22:28:57.153837Z"
    },
    "tags": []
   },
   "outputs": [
    {
     "data": {
      "application/vnd.jupyter.widget-view+json": {
       "model_id": "382de5eba40b4ddfbd31135157437cde",
       "version_major": 2,
       "version_minor": 0
      },
      "text/plain": [
       "VBox()"
      ]
     },
     "metadata": {},
     "output_type": "display_data"
    },
    {
     "data": {
      "application/vnd.jupyter.widget-view+json": {
       "model_id": "",
       "version_major": 2,
       "version_minor": 0
      },
      "text/plain": [
       "FloatProgress(value=0.0, bar_style='info', description='Progress:', layout=Layout(height='25px', width='50%'),…"
      ]
     },
     "metadata": {},
     "output_type": "display_data"
    }
   ],
   "source": [
    "# Loading the final file after aggregation through athena\n",
    "final_restaurants_path = \"s3://bucket-akshat-test/restaurants_final/\""
   ]
  },
  {
   "cell_type": "code",
   "execution_count": 6,
   "id": "8a1e1b38-217f-473e-b415-bfe9028d4b45",
   "metadata": {
    "execution": {
     "iopub.execute_input": "2024-11-18T22:29:00.289309Z",
     "iopub.status.busy": "2024-11-18T22:29:00.289046Z",
     "iopub.status.idle": "2024-11-18T22:29:11.736438Z",
     "shell.execute_reply": "2024-11-18T22:29:11.735599Z",
     "shell.execute_reply.started": "2024-11-18T22:29:00.289273Z"
    },
    "tags": []
   },
   "outputs": [
    {
     "data": {
      "application/vnd.jupyter.widget-view+json": {
       "model_id": "e784913a622843e19a785b3d0ee5e711",
       "version_major": 2,
       "version_minor": 0
      },
      "text/plain": [
       "VBox()"
      ]
     },
     "metadata": {},
     "output_type": "display_data"
    },
    {
     "data": {
      "application/vnd.jupyter.widget-view+json": {
       "model_id": "",
       "version_major": 2,
       "version_minor": 0
      },
      "text/plain": [
       "FloatProgress(value=0.0, bar_style='info', description='Progress:', layout=Layout(height='25px', width='50%'),…"
      ]
     },
     "metadata": {},
     "output_type": "display_data"
    },
    {
     "name": "stdout",
     "output_type": "stream",
     "text": [
      "Final Restaurants DataFrame Schema:\n",
      "root\n",
      " |-- id: integer (nullable = true)\n",
      " |-- name: string (nullable = true)\n",
      " |-- lat: double (nullable = true)\n",
      " |-- lng: double (nullable = true)\n",
      " |-- avg_menu_price: double (nullable = true)\n",
      " |-- unique_menu_categories: long (nullable = true)\n",
      "\n",
      "+-----+--------------------+----------+-----------+------------------+----------------------+\n",
      "|   id|                name|       lat|        lng|    avg_menu_price|unique_menu_categories|\n",
      "+-----+--------------------+----------+-----------+------------------+----------------------+\n",
      "|40891|Denny's (1601 I35 N)|30.2767055|-97.7296076| 7.333944970314656|                    16|\n",
      "|    5|Nelson Brothers C...|  33.51473|   -86.8117| 4.464925374557723|                     9|\n",
      "|20418|     Taco City DC NW|  38.92385|  -77.05205| 6.944186046373012|                     5|\n",
      "|20426| Mai Thai (Old Town)|38.8040633|-77.0399785|14.356250002980232|                    10|\n",
      "|45048|Luby's (2695 Inte...|30.0948838|-94.1293961| 8.309999964264936|                    11|\n",
      "+-----+--------------------+----------+-----------+------------------+----------------------+\n",
      "only showing top 5 rows"
     ]
    }
   ],
   "source": [
    "# Load the final aggregated dataset\n",
    "restaurants_final_df = spark.read.parquet(final_restaurants_path)\n",
    "print(\"Final Restaurants DataFrame Schema:\")\n",
    "restaurants_final_df.printSchema()\n",
    "restaurants_final_df.show(5)"
   ]
  },
  {
   "cell_type": "code",
   "execution_count": 7,
   "id": "09d803e6-3e47-40f5-957f-657d03fd4d5b",
   "metadata": {
    "execution": {
     "iopub.execute_input": "2024-11-18T22:32:17.723839Z",
     "iopub.status.busy": "2024-11-18T22:32:17.723578Z",
     "iopub.status.idle": "2024-11-18T22:32:18.008417Z",
     "shell.execute_reply": "2024-11-18T22:32:18.007480Z",
     "shell.execute_reply.started": "2024-11-18T22:32:17.723809Z"
    },
    "tags": []
   },
   "outputs": [
    {
     "data": {
      "application/vnd.jupyter.widget-view+json": {
       "model_id": "e1fc0f9f3eb54b3b8651fc3fa5ba40a2",
       "version_major": 2,
       "version_minor": 0
      },
      "text/plain": [
       "VBox()"
      ]
     },
     "metadata": {},
     "output_type": "display_data"
    },
    {
     "data": {
      "application/vnd.jupyter.widget-view+json": {
       "model_id": "",
       "version_major": 2,
       "version_minor": 0
      },
      "text/plain": [
       "FloatProgress(value=0.0, bar_style='info', description='Progress:', layout=Layout(height='25px', width='50%'),…"
      ]
     },
     "metadata": {},
     "output_type": "display_data"
    }
   ],
   "source": [
    "# Filter out rows with null values\n",
    "r_data = restaurants_final_df.filter(\n",
    "    col(\"lat\").isNotNull() & \n",
    "    col(\"lng\").isNotNull() & \n",
    "    col(\"avg_menu_price\").isNotNull()\n",
    ")\n",
    "features = r_data.select(\"id\", \"name\", \"lat\", \"lng\", \"avg_menu_price\")"
   ]
  },
  {
   "cell_type": "code",
   "execution_count": 8,
   "id": "b75fb9b1-5a22-421e-bd5a-e7f88b0a6190",
   "metadata": {
    "execution": {
     "iopub.execute_input": "2024-11-18T22:32:21.347704Z",
     "iopub.status.busy": "2024-11-18T22:32:21.347411Z",
     "iopub.status.idle": "2024-11-18T22:32:21.647896Z",
     "shell.execute_reply": "2024-11-18T22:32:21.647167Z",
     "shell.execute_reply.started": "2024-11-18T22:32:21.347668Z"
    },
    "tags": []
   },
   "outputs": [
    {
     "data": {
      "application/vnd.jupyter.widget-view+json": {
       "model_id": "bbfc3486e6f649e1bb474f77446563fd",
       "version_major": 2,
       "version_minor": 0
      },
      "text/plain": [
       "VBox()"
      ]
     },
     "metadata": {},
     "output_type": "display_data"
    },
    {
     "data": {
      "application/vnd.jupyter.widget-view+json": {
       "model_id": "",
       "version_major": 2,
       "version_minor": 0
      },
      "text/plain": [
       "FloatProgress(value=0.0, bar_style='info', description='Progress:', layout=Layout(height='25px', width='50%'),…"
      ]
     },
     "metadata": {},
     "output_type": "display_data"
    }
   ],
   "source": [
    "# Combine features into a single vector\n",
    "vector_assembler = VectorAssembler(inputCols=[\"lat\", \"lng\", \"avg_menu_price\"], outputCol=\"features\")\n",
    "vector_data = vector_assembler.transform(features)"
   ]
  },
  {
   "cell_type": "code",
   "execution_count": 9,
   "id": "7965de0b-0708-4b51-8c81-068d69fe9974",
   "metadata": {
    "execution": {
     "iopub.execute_input": "2024-11-18T22:32:24.255411Z",
     "iopub.status.busy": "2024-11-18T22:32:24.255155Z",
     "iopub.status.idle": "2024-11-18T22:32:41.698888Z",
     "shell.execute_reply": "2024-11-18T22:32:41.698000Z",
     "shell.execute_reply.started": "2024-11-18T22:32:24.255384Z"
    },
    "tags": []
   },
   "outputs": [
    {
     "data": {
      "application/vnd.jupyter.widget-view+json": {
       "model_id": "6f98c20b227e493b99b6d7a49b54e2f6",
       "version_major": 2,
       "version_minor": 0
      },
      "text/plain": [
       "VBox()"
      ]
     },
     "metadata": {},
     "output_type": "display_data"
    },
    {
     "data": {
      "application/vnd.jupyter.widget-view+json": {
       "model_id": "",
       "version_major": 2,
       "version_minor": 0
      },
      "text/plain": [
       "FloatProgress(value=0.0, bar_style='info', description='Progress:', layout=Layout(height='25px', width='50%'),…"
      ]
     },
     "metadata": {},
     "output_type": "display_data"
    },
    {
     "name": "stdout",
     "output_type": "stream",
     "text": [
      "+---------------------------------------------------------------+\n",
      "|scaled_features                                                |\n",
      "+---------------------------------------------------------------+\n",
      "|[-0.9785442703954408,-0.06976821530038146,-0.29439372489156124]|\n",
      "|[-0.47701727684485073,0.6864722700679267,-0.7272216973740957]  |\n",
      "|[0.36078357714941867,1.3624848105133889,-0.35319379898520936]  |\n",
      "|[0.34223020810655136,1.363320955803638,0.7650100010145496]     |\n",
      "|[-1.0067060371032763,0.17960426447665628,-0.14714345699944062] |\n",
      "+---------------------------------------------------------------+\n",
      "only showing top 5 rows"
     ]
    }
   ],
   "source": [
    "# Normalize the features\n",
    "scaler = StandardScaler(inputCol=\"features\", outputCol=\"scaled_features\", withStd=True, withMean=True)\n",
    "scaler_model = scaler.fit(vector_data)\n",
    "normalized_data = scaler_model.transform(vector_data)\n",
    "\n",
    "# Show normalized data\n",
    "normalized_data.select(\"scaled_features\").show(5, truncate=False)"
   ]
  },
  {
   "cell_type": "code",
   "execution_count": 10,
   "id": "4ecb1669-a1a0-48af-bd7c-116290699f9c",
   "metadata": {
    "execution": {
     "iopub.execute_input": "2024-11-18T22:36:54.135100Z",
     "iopub.status.busy": "2024-11-18T22:36:54.134860Z",
     "iopub.status.idle": "2024-11-18T22:36:54.225667Z",
     "shell.execute_reply": "2024-11-18T22:36:54.219713Z",
     "shell.execute_reply.started": "2024-11-18T22:36:54.135071Z"
    },
    "tags": []
   },
   "outputs": [
    {
     "data": {
      "application/vnd.jupyter.widget-view+json": {
       "model_id": "0fc58f7be6ef402f80173668c3556bf1",
       "version_major": 2,
       "version_minor": 0
      },
      "text/plain": [
       "VBox()"
      ]
     },
     "metadata": {},
     "output_type": "display_data"
    },
    {
     "data": {
      "application/vnd.jupyter.widget-view+json": {
       "model_id": "",
       "version_major": 2,
       "version_minor": 0
      },
      "text/plain": [
       "FloatProgress(value=0.0, bar_style='info', description='Progress:', layout=Layout(height='25px', width='50%'),…"
      ]
     },
     "metadata": {},
     "output_type": "display_data"
    }
   ],
   "source": [
    "from pyspark.sql import SparkSession\n",
    "from pyspark.sql.functions import col, udf\n",
    "from pyspark.sql.types import DoubleType\n",
    "from pyspark.ml.linalg import Vectors\n",
    "from pyspark.sql import Window\n",
    "from pyspark.sql.functions import row_number, collect_list, struct\n",
    "import random\n",
    "from pyspark.sql.functions import rand"
   ]
  },
  {
   "cell_type": "markdown",
   "id": "2f3fe940",
   "metadata": {},
   "source": [
    " 1. Define a UDF to calculate cosine similarity between two vectors"
   ]
  },
  {
   "cell_type": "code",
   "execution_count": null,
   "id": "1640ef53-24f5-4866-b646-702390127436",
   "metadata": {
    "execution": {
     "iopub.execute_input": "2024-11-18T22:36:59.129333Z",
     "iopub.status.busy": "2024-11-18T22:36:59.128990Z",
     "iopub.status.idle": "2024-11-18T22:36:59.259342Z",
     "shell.execute_reply": "2024-11-18T22:36:59.251257Z",
     "shell.execute_reply.started": "2024-11-18T22:36:59.129286Z"
    }
   },
   "outputs": [
    {
     "data": {
      "application/vnd.jupyter.widget-view+json": {
       "model_id": "081efc22ff734209bff3e005cc0ca6ee",
       "version_major": 2,
       "version_minor": 0
      },
      "text/plain": [
       "VBox()"
      ]
     },
     "metadata": {},
     "output_type": "display_data"
    },
    {
     "data": {
      "application/vnd.jupyter.widget-view+json": {
       "model_id": "",
       "version_major": 2,
       "version_minor": 0
      },
      "text/plain": [
       "FloatProgress(value=0.0, bar_style='info', description='Progress:', layout=Layout(height='25px', width='50%'),…"
      ]
     },
     "metadata": {},
     "output_type": "display_data"
    }
   ],
   "source": [
    "def cosine_similarity_udf(vector1, vector2):\n",
    "    dot_product = float(vector1.dot(vector2))  # Using Spark's MLlib dot product method\n",
    "    magnitude1 = float(vector1.norm(2))  # L2 norm (Euclidean norm)\n",
    "    magnitude2 = float(vector2.norm(2))\n",
    "    if magnitude1 == 0 or magnitude2 == 0:\n",
    "        return 0.0\n",
    "    return dot_product / (magnitude1 * magnitude2)\n",
    "\n",
    "# Register the UDF\n",
    "cosine_similarity = udf(cosine_similarity_udf, DoubleType())"
   ]
  },
  {
   "cell_type": "markdown",
   "id": "fc673504",
   "metadata": {},
   "source": [
    "2. Compare each restaurant with every other restaurant (using cross join)"
   ]
  },
  {
   "cell_type": "code",
   "execution_count": null,
   "id": "65787135-72f0-4911-9919-26fc9cc85466",
   "metadata": {
    "execution": {
     "iopub.execute_input": "2024-11-18T22:37:01.979649Z",
     "iopub.status.busy": "2024-11-18T22:37:01.979414Z",
     "iopub.status.idle": "2024-11-18T22:37:02.267615Z",
     "shell.execute_reply": "2024-11-18T22:37:02.266916Z",
     "shell.execute_reply.started": "2024-11-18T22:37:01.979623Z"
    }
   },
   "outputs": [
    {
     "data": {
      "application/vnd.jupyter.widget-view+json": {
       "model_id": "d2496c7159ba41a3b1771b7f4a82a22a",
       "version_major": 2,
       "version_minor": 0
      },
      "text/plain": [
       "VBox()"
      ]
     },
     "metadata": {},
     "output_type": "display_data"
    },
    {
     "data": {
      "application/vnd.jupyter.widget-view+json": {
       "model_id": "",
       "version_major": 2,
       "version_minor": 0
      },
      "text/plain": [
       "FloatProgress(value=0.0, bar_style='info', description='Progress:', layout=Layout(height='25px', width='50%'),…"
      ]
     },
     "metadata": {},
     "output_type": "display_data"
    }
   ],
   "source": [
    "similarities = normalized_data.alias(\"a\").crossJoin(normalized_data.alias(\"b\")) \\\n",
    "    .withColumn(\"similarity\", cosine_similarity(col(\"a.scaled_features\"), col(\"b.scaled_features\"))) \\\n",
    "    .filter(col(\"a.id\") != col(\"b.id\"))"
   ]
  },
  {
   "cell_type": "code",
   "execution_count": null,
   "id": "8fe96bc2-76f4-4183-80f5-3830fba46809",
   "metadata": {
    "execution": {
     "iopub.execute_input": "2024-11-18T22:37:09.112667Z",
     "iopub.status.busy": "2024-11-18T22:37:09.111957Z",
     "iopub.status.idle": "2024-11-18T22:37:56.688786Z",
     "shell.execute_reply": "2024-11-18T22:37:56.687921Z",
     "shell.execute_reply.started": "2024-11-18T22:37:09.112617Z"
    },
    "tags": []
   },
   "outputs": [
    {
     "data": {
      "application/vnd.jupyter.widget-view+json": {
       "model_id": "e67408eb36ae44a6bc7212e8a3288159",
       "version_major": 2,
       "version_minor": 0
      },
      "text/plain": [
       "VBox()"
      ]
     },
     "metadata": {},
     "output_type": "display_data"
    },
    {
     "data": {
      "application/vnd.jupyter.widget-view+json": {
       "model_id": "",
       "version_major": 2,
       "version_minor": 0
      },
      "text/plain": [
       "FloatProgress(value=0.0, bar_style='info', description='Progress:', layout=Layout(height='25px', width='50%'),…"
      ]
     },
     "metadata": {},
     "output_type": "display_data"
    },
    {
     "name": "stdout",
     "output_type": "stream",
     "text": [
      "+-----+--------------------------------------+\n",
      "|id   |name                                  |\n",
      "+-----+--------------------------------------+\n",
      "|23922|Pasta Americana (7425 Bell Creek Road)|\n",
      "|61332|El Pollo Loco (601 Nolana Loop,3463)  |\n",
      "|62587|Las Palapas (1675 W State)            |\n",
      "|33457|Rocco's Italian Cafe                  |\n",
      "|42309|Ace Liquor                            |\n",
      "+-----+--------------------------------------+\n",
      "\n",
      "+-------------+----------------------------------------------------+------------------+\n",
      "|Restaurant ID|Similar Restaurant                                  |Score             |\n",
      "+-------------+----------------------------------------------------+------------------+\n",
      "|23922        |Smokey Bones (Roanoke)                              |0.9998595766318839|\n",
      "|23922        |Caribbean Wraps Spot (104 Whitehall Rd Unit #1B)    |0.9998402671277096|\n",
      "|23922        |sweetFrog (10040 Sliding Hill Rd)                   |0.9998204165040929|\n",
      "|23922        |Hunt Brothers Pizza                                 |0.9997544191895218|\n",
      "|23922        |Qui's Cafe                                          |0.999734945365816 |\n",
      "|33457        |Koshi Japanese &amp; Korean                         |0.9999997976425384|\n",
      "|33457        |WooMeeOk Korean BBQ                                 |0.9999961228553602|\n",
      "|33457        |Flying Fish Plano                                   |0.9999952318917013|\n",
      "|33457        |Savorite Southern Cuisine                           |0.9999941909339671|\n",
      "|33457        |The Red Oak Barn                                    |0.9999909760469835|\n",
      "|42309        |Great American Cookies (1184 Baybrook Mall)         |0.999999771041251 |\n",
      "|42309        |Saltgrass (215 Kipp Avenue)                         |0.9999798169377484|\n",
      "|42309        |Roma Discount Beverage Mart                         |0.999978895370468 |\n",
      "|42309        |Pressed Acai Bowls (2437 University Blvd)           |0.9999768623530864|\n",
      "|42309        |Saltgrass (14909 I-45)                              |0.9999743676102227|\n",
      "|61332        |La Rancheria Restaurant                             |0.9999993450543154|\n",
      "|61332        |Pieology Pizzeria (508 WEST TRENTON SUITE A &amp; B)|0.9999978992674727|\n",
      "|61332        |Dairy Queen (400 N Shary Rd)                        |0.9999965381603526|\n",
      "|61332        |Taqueria Jaguar's                                   |0.9999960654773186|\n",
      "|61332        |Wicked Wing Pub                                     |0.9999952653780898|\n",
      "+-------------+----------------------------------------------------+------------------+\n",
      "only showing top 20 rows"
     ]
    }
   ],
   "source": [
    "# Sample random restaurants from the dataset\n",
    "sampled_data = normalized_data.orderBy(rand()).limit(5)\n",
    "\n",
    "# Get the list of IDs and names for the sampled restaurants\n",
    "sampled_data_with_names = sampled_data.select(\"id\", \"name\")\n",
    "\n",
    "# Show the sampled restaurants with ID and name\n",
    "sampled_data_with_names.show(truncate=False)\n",
    "sample_ids = sampled_data.select(\"id\").rdd.flatMap(lambda x: x).collect()\n",
    "\n",
    "# Filter the similarities DataFrame to only include those for the sampled restaurants\n",
    "sample_similarities = similarities.filter(col(\"a.id\").isin(sample_ids))\n",
    "\n",
    "# Rank the similarities within each restaurant by similarity score \n",
    "window_spec = Window.partitionBy(\"a.id\").orderBy(col(\"similarity\").desc())\n",
    "ranked_sample_similarities = sample_similarities.withColumn(\"rank\", row_number().over(window_spec))\n",
    "\n",
    "# Filter to top 5 similar restaurants for each sampled restaurant\n",
    "top_5_sample_similarities = ranked_sample_similarities.filter(col(\"rank\") <= 5)\n",
    "\n",
    "# Format the output to show similar restaurants for each sampled restaurant\n",
    "formatted_sample_output = top_5_sample_similarities.select(\n",
    "    col(\"a.id\").alias(\"Restaurant ID\"),\n",
    "    col(\"b.name\").alias(\"Similar Restaurant\"),\n",
    "    col(\"similarity\").alias(\"Score\")\n",
    ")\n",
    "\n",
    "# Show the results for the sampled restaurants\n",
    "formatted_sample_output.show(truncate=False)"
   ]
  },
  {
   "cell_type": "markdown",
   "id": "54d8cc48",
   "metadata": {},
   "source": [
    "\n",
    "- RECOMMENDATIONS FOR ENTIRE DATASET CANNOT BE PERFORMED AS THE DATASET IS TOO BIG\n",
    "CONSIDERED SAMPLE OF 500 instead\n"
   ]
  },
  {
   "cell_type": "code",
   "execution_count": null,
   "id": "1651965e-3990-41ea-bd58-c9fb4f1c98c9",
   "metadata": {
    "execution": {
     "iopub.execute_input": "2024-11-18T22:39:42.183239Z",
     "iopub.status.busy": "2024-11-18T22:39:42.183000Z",
     "iopub.status.idle": "2024-11-18T22:58:19.846681Z",
     "shell.execute_reply": "2024-11-18T22:58:19.845280Z",
     "shell.execute_reply.started": "2024-11-18T22:39:42.183209Z"
    },
    "tags": []
   },
   "outputs": [
    {
     "data": {
      "application/vnd.jupyter.widget-view+json": {
       "model_id": "7bf13262ab654a92914c986559085ffd",
       "version_major": 2,
       "version_minor": 0
      },
      "text/plain": [
       "VBox()"
      ]
     },
     "metadata": {},
     "output_type": "display_data"
    },
    {
     "data": {
      "application/vnd.jupyter.widget-view+json": {
       "model_id": "",
       "version_major": 2,
       "version_minor": 0
      },
      "text/plain": [
       "FloatProgress(value=0.0, bar_style='info', description='Progress:', layout=Layout(height='25px', width='50%'),…"
      ]
     },
     "metadata": {},
     "output_type": "display_data"
    },
    {
     "name": "stdout",
     "output_type": "stream",
     "text": [
      "+-------------+---------------------------------------------+----------------------------------------------------+------------------+\n",
      "|Restaurant ID|Restaurant Name                              |Similar Restaurant                                  |Score             |\n",
      "+-------------+---------------------------------------------+----------------------------------------------------+------------------+\n",
      "|86           |SOCU Southern Kitchen + Oyster Bar Birmingham|Michael's Steaks &amp; Seafood                      |0.999851554633651 |\n",
      "|86           |SOCU Southern Kitchen + Oyster Bar Birmingham|Taziki's Mediterranean Café (2737 Highway 280 South)|0.9996712006692721|\n",
      "|86           |SOCU Southern Kitchen + Oyster Bar Birmingham|Ocean Restaurant                                    |0.9995828507300235|\n",
      "|86           |SOCU Southern Kitchen + Oyster Bar Birmingham|Panda Express (3780 Lorna Rd)                       |0.9994996516877626|\n",
      "|86           |SOCU Southern Kitchen + Oyster Bar Birmingham|Post Office Pies (Avondale)                         |0.9994991974240462|\n",
      "|335          |The Heavenly Donut Co.                       |De Vinci's Pizza                                    |0.9999903575028231|\n",
      "|335          |The Heavenly Donut Co.                       |Hickory Tavern (Brookwood Village)                  |0.9999431864500937|\n",
      "|335          |The Heavenly Donut Co.                       |Sitar                                               |0.9999374700985787|\n",
      "|335          |The Heavenly Donut Co.                       |Makarios Kabobs &amp; Grill                         |0.999896937133152 |\n",
      "|335          |The Heavenly Donut Co.                       |Sanpeggio's Pizza                                   |0.9998414785831956|\n",
      "|420          |Jersey Mike's Subs (1114 1st Street)         |Jim 'N Nicks Bar-B-Q (Alabaster)                    |0.9999615805116033|\n",
      "|420          |Jersey Mike's Subs (1114 1st Street)         |Otoro Hibachi                                       |0.9999152023656308|\n",
      "|420          |Jersey Mike's Subs (1114 1st Street)         |Margarita Grill                                     |0.999913941052134 |\n",
      "|420          |Jersey Mike's Subs (1114 1st Street)         |Boardroom Bar &amp; Grill                           |0.9998858909920352|\n",
      "|420          |Jersey Mike's Subs (1114 1st Street)         |Hootie's Bait &amp; Tackle (400 Cahaba Valley Rd)   |0.9998706361248526|\n",
      "|701          |Mariah Carey's Cookies - Huntsville          |Chicken Sammy's 558 (365 The Bridge St)             |0.9999645835836168|\n",
      "|701          |Mariah Carey's Cookies - Huntsville          |Marco’s Pizza (22099 Hwy 72 E Suite H)              |0.9999269639070656|\n",
      "|701          |Mariah Carey's Cookies - Huntsville          |RD’s Smokehouse Barbecue                            |0.9999239061157921|\n",
      "|701          |Mariah Carey's Cookies - Huntsville          |Mary's Pit Bar BQ                                   |0.9998508219691077|\n",
      "|701          |Mariah Carey's Cookies - Huntsville          |IHOP (8622 Us Highway 72 West Nw)                   |0.9998498102927809|\n",
      "+-------------+---------------------------------------------+----------------------------------------------------+------------------+\n",
      "only showing top 20 rows"
     ]
    }
   ],
   "source": [
    "# Sample 500 random restaurants from the dataset\n",
    "sampled_data = normalized_data.sample(False, 500 / normalized_data.count())  # Adjust sample size as needed\n",
    "sample_ids = sampled_data.select(\"id\").rdd.flatMap(lambda x: x).collect()\n",
    "\n",
    "# Filter the similarities for only the sampled restaurants\n",
    "sample_similarities = similarities.filter(col(\"a.id\").isin(sample_ids))\n",
    "\n",
    "# Rank by similarity within each restaurant\n",
    "window_spec = Window.partitionBy(\"a.id\").orderBy(col(\"similarity\").desc())\n",
    "ranked_sample_similarities = sample_similarities.withColumn(\"rank\", row_number().over(window_spec))\n",
    "\n",
    "# Filter to top 5 for each sample restaurant\n",
    "top_5_sample_similarities = ranked_sample_similarities.filter(col(\"rank\") <= 5)\n",
    "\n",
    "formatted_sample_output = top_5_sample_similarities.select(\n",
    "    col(\"a.id\").alias(\"Restaurant ID\"),\n",
    "    col(\"a.name\").alias(\"Restaurant Name\"),\n",
    "    col(\"b.name\").alias(\"Similar Restaurant\"),\n",
    "    col(\"similarity\").alias(\"Score\")\n",
    ")\n",
    "\n",
    "formatted_sample_output.show(truncate=False)"
   ]
  },
  {
   "cell_type": "code",
   "execution_count": null,
   "id": "a5d5aa3d-4b81-461b-82eb-52c4ea6295a9",
   "metadata": {},
   "outputs": [],
   "source": []
  }
 ],
 "metadata": {
  "kernelspec": {
   "display_name": "PySpark",
   "language": "python",
   "name": "pysparkkernel"
  },
  "language_info": {
   "codemirror_mode": {
    "name": "python",
    "version": 3
   },
   "file_extension": ".py",
   "mimetype": "text/x-python",
   "name": "pyspark",
   "pygments_lexer": "python3"
  }
 },
 "nbformat": 4,
 "nbformat_minor": 5
}
